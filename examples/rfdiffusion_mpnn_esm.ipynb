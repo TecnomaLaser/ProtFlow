{
 "cells": [
  {
   "cell_type": "markdown",
   "metadata": {},
   "source": [
    "# Diffuse Proteins, Design and Predict Their Sequences"
   ]
  },
  {
   "cell_type": "markdown",
   "metadata": {},
   "source": [
    "### Setup"
   ]
  },
  {
   "cell_type": "code",
   "execution_count": 2,
   "metadata": {},
   "outputs": [],
   "source": [
    "import protflow\n",
    "from protflow import jobstarters\n",
    "from protflow.poses import Poses\n",
    "from protflow.tools.rfdiffusion import RFdiffusion"
   ]
  },
  {
   "cell_type": "code",
   "execution_count": 3,
   "metadata": {},
   "outputs": [
    {
     "name": "stdout",
     "output_type": "stream",
     "text": [
      "Empty DataFrame\n",
      "Columns: [input_poses, poses, poses_description]\n",
      "Index: []\n"
     ]
    }
   ],
   "source": [
    "# first, we define the jobstarters that should be used throughout the script (this can be changed here to slurm if needed)\n",
    "cpu_jobstarter = protflow.jobstarters.LocalJobStarter(max_cores=7)\n",
    "gpu_jobstarter = protflow.jobstarters.LocalJobStarter(max_cores=1)\n",
    "\n",
    "# on cluster, gpu_jobstarter looks very different:\n",
    "sbatch_gpu_jobstarter = protflow.jobstarters.SbatchArrayJobstarter(max_cores=10, gpus=1)\n",
    "\n",
    "# we setup an empty Poses object\n",
    "proteins = Poses(\n",
    "    poses=None,\n",
    "    work_dir=\"./rfdiffusion_mpnn_esm_output/\",\n",
    "    storage_format=\"pickle\",\n",
    "    jobstarter=sbatch_gpu_jobstarter\n",
    ")\n",
    "\n",
    "print(proteins.df)"
   ]
  },
  {
   "cell_type": "markdown",
   "metadata": {},
   "source": [
    "# Creating De Novo Proteins from Scratch with RFDiffusion"
   ]
  },
  {
   "cell_type": "code",
   "execution_count": 4,
   "metadata": {},
   "outputs": [],
   "source": [
    "# setup runner.\n",
    "rfdiffusion_runner = RFdiffusion(jobstarter=sbatch_gpu_jobstarter)\n",
    "\n",
    "# start runner\n",
    "diffused_proteins = rfdiffusion_runner.run(\n",
    "    poses=proteins,\n",
    "    prefix=\"diffusion\",\n",
    "    num_diffusions=5,\n",
    "    options=\"'contigmap.contigs=[70-70]'\"\n",
    ")"
   ]
  },
  {
   "cell_type": "code",
   "execution_count": 5,
   "metadata": {},
   "outputs": [
    {
     "name": "stdout",
     "output_type": "stream",
     "text": [
      "   input_poses                                              poses  \\\n",
      "0          NaN  /home/mabr3112/ProtFlow/examples/rfdiffusion_m...   \n",
      "1          NaN  /home/mabr3112/ProtFlow/examples/rfdiffusion_m...   \n",
      "2          NaN  /home/mabr3112/ProtFlow/examples/rfdiffusion_m...   \n",
      "3          NaN  /home/mabr3112/ProtFlow/examples/rfdiffusion_m...   \n",
      "4          NaN  /home/mabr3112/ProtFlow/examples/rfdiffusion_m...   \n",
      "\n",
      "  poses_description  diffusion_plddt  \\\n",
      "0    diff_0001_0002         0.956843   \n",
      "1    diff_0001_0001         0.941326   \n",
      "2    diff_0001_0005         0.943400   \n",
      "3    diff_0001_0004         0.943294   \n",
      "4    diff_0001_0003         0.958685   \n",
      "\n",
      "                              diffusion_perres_plddt  \\\n",
      "0  [0.9466934, 0.97783107, 0.9815314, 0.9839835, ...   \n",
      "1  [0.89204675, 0.9132011, 0.9310032, 0.9333822, ...   \n",
      "2  [0.90986276, 0.9491161, 0.93919754, 0.93431914...   \n",
      "3  [0.9064126, 0.9262741, 0.923507, 0.9394405, 0....   \n",
      "4  [0.8997437, 0.94538975, 0.93646216, 0.92597026...   \n",
      "\n",
      "  diffusion_con_hal_pdb_idx diffusion_con_ref_pdb_idx diffusion_sampled_mask  \\\n",
      "0                        []                        []                [70-70]   \n",
      "1                        []                        []                [70-70]   \n",
      "2                        []                        []                [70-70]   \n",
      "3                        []                        []                [70-70]   \n",
      "4                        []                        []                [70-70]   \n",
      "\n",
      "                                 diffusion_input_pdb diffusion_description  \\\n",
      "0  /home/mabr3112/RFdiffusion/rfdiffusion/inferen...        diff_0001_0002   \n",
      "1  /home/mabr3112/RFdiffusion/rfdiffusion/inferen...        diff_0001_0001   \n",
      "2  /home/mabr3112/RFdiffusion/rfdiffusion/inferen...        diff_0001_0005   \n",
      "3  /home/mabr3112/RFdiffusion/rfdiffusion/inferen...        diff_0001_0004   \n",
      "4  /home/mabr3112/RFdiffusion/rfdiffusion/inferen...        diff_0001_0003   \n",
      "\n",
      "                                  diffusion_location  \n",
      "0  /home/mabr3112/ProtFlow/examples/rfdiffusion_m...  \n",
      "1  /home/mabr3112/ProtFlow/examples/rfdiffusion_m...  \n",
      "2  /home/mabr3112/ProtFlow/examples/rfdiffusion_m...  \n",
      "3  /home/mabr3112/ProtFlow/examples/rfdiffusion_m...  \n",
      "4  /home/mabr3112/ProtFlow/examples/rfdiffusion_m...  \n",
      "poses_description    diff_0001_0002\n",
      "diffusion_plddt            0.956843\n",
      "Name: 0, dtype: object\n",
      "poses_description    diff_0001_0001\n",
      "diffusion_plddt            0.941326\n",
      "Name: 1, dtype: object\n",
      "poses_description    diff_0001_0005\n",
      "diffusion_plddt              0.9434\n",
      "Name: 2, dtype: object\n",
      "poses_description    diff_0001_0004\n",
      "diffusion_plddt            0.943294\n",
      "Name: 3, dtype: object\n",
      "poses_description    diff_0001_0003\n",
      "diffusion_plddt            0.958685\n",
      "Name: 4, dtype: object\n"
     ]
    }
   ],
   "source": [
    "print(diffused_proteins.df)\n",
    "for pose in diffused_proteins:\n",
    "    print(pose[[\"poses_description\", \"diffusion_plddt\"]])"
   ]
  },
  {
   "cell_type": "markdown",
   "metadata": {},
   "source": [
    "# Sequence Design for diffused poses with LigandMPNN"
   ]
  },
  {
   "cell_type": "code",
   "execution_count": 6,
   "metadata": {},
   "outputs": [],
   "source": [
    "from protflow.tools import ligandmpnn\n",
    "from protflow.tools.ligandmpnn import LigandMPNN\n",
    "\n",
    "# setup mover\n",
    "ligandmpnn_runner = LigandMPNN(jobstarter=sbatch_gpu_jobstarter)"
   ]
  },
  {
   "cell_type": "code",
   "execution_count": 7,
   "metadata": {},
   "outputs": [],
   "source": [
    "# design 8 sequences per Pose with LigandMPNN\n",
    "proteins = ligandmpnn_runner.run(\n",
    "    poses=diffused_proteins,\n",
    "    prefix=\"mpnn_design\",\n",
    "    jobstarter=sbatch_gpu_jobstarter,\n",
    "    nseq=8,\n",
    "    model_type=\"soluble_mpnn\"\n",
    ")"
   ]
  },
  {
   "cell_type": "markdown",
   "metadata": {},
   "source": [
    "# Predict Designed Sequences using ESMFold"
   ]
  },
  {
   "cell_type": "code",
   "execution_count": 8,
   "metadata": {},
   "outputs": [],
   "source": [
    "from protflow.tools import esmfold\n",
    "from protflow.tools.esmfold import ESMFold"
   ]
  },
  {
   "cell_type": "code",
   "execution_count": 9,
   "metadata": {},
   "outputs": [],
   "source": [
    "# set up runner\n",
    "esmfold_runner = ESMFold(jobstarter=sbatch_gpu_jobstarter)\n",
    "\n",
    "# start predicting\n",
    "predicted_proteins = esmfold_runner.run(\n",
    "    poses=proteins,\n",
    "    prefix=\"esm\"\n",
    ")"
   ]
  },
  {
   "cell_type": "code",
   "execution_count": null,
   "metadata": {},
   "outputs": [],
   "source": []
  }
 ],
 "metadata": {
  "kernelspec": {
   "display_name": "protflow",
   "language": "python",
   "name": "python3"
  },
  "language_info": {
   "codemirror_mode": {
    "name": "ipython",
    "version": 3
   },
   "file_extension": ".py",
   "mimetype": "text/x-python",
   "name": "python",
   "nbconvert_exporter": "python",
   "pygments_lexer": "ipython3",
   "version": "3.12.3"
  }
 },
 "nbformat": 4,
 "nbformat_minor": 2
}
