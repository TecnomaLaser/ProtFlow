{
 "cells": [
  {
   "cell_type": "markdown",
   "metadata": {},
   "source": [
    "# Diffuse Proteins, Design and Predict Their Sequences"
   ]
  },
  {
   "cell_type": "markdown",
   "metadata": {},
   "source": [
    "### Setup"
   ]
  },
  {
   "cell_type": "code",
   "execution_count": 1,
   "metadata": {},
   "outputs": [
    {
     "data": {
      "text/plain": [
       "<module 'protslurm.jobstarters' from '/home/markus/projects/ProtSLURM/protslurm/jobstarters.py'>"
      ]
     },
     "execution_count": 1,
     "metadata": {},
     "output_type": "execute_result"
    }
   ],
   "source": [
    "import protslurm\n",
    "from protslurm import jobstarters\n",
    "from protslurm.poses import Poses\n",
    "from protslurm.tools.rfdiffusion import RFdiffusion\n",
    "\n",
    "import importlib\n",
    "importlib.reload(protslurm)\n",
    "importlib.reload(protslurm.poses)\n",
    "importlib.reload(protslurm.tools.rfdiffusion)\n",
    "importlib.reload(protslurm.jobstarters)\n",
    "importlib.reload(jobstarters)\n",
    "#importlib.reload(rfdiffusion)"
   ]
  },
  {
   "cell_type": "markdown",
   "metadata": {},
   "source": []
  },
  {
   "cell_type": "code",
   "execution_count": 2,
   "metadata": {},
   "outputs": [
    {
     "name": "stdout",
     "output_type": "stream",
     "text": [
      "Empty DataFrame\n",
      "Columns: [input_poses, poses, poses_description]\n",
      "Index: []\n"
     ]
    }
   ],
   "source": [
    "# first, we define the jobstarters that should be used throughout the script (this can be changed here to slurm if needed)\n",
    "cpu_jobstarter = protslurm.jobstarters.LocalJobStarter(max_cores=7)\n",
    "gpu_jobstarter = protslurm.jobstarters.LocalJobStarter(max_cores=1)\n",
    "\n",
    "# on cluster, gpu_jobstarter looks very different:\n",
    "sbatch_gpu_jobstarter = protslurm.jobstarters.SbatchArrayJobstarter(max_cores=10, gpus=1)\n",
    "\n",
    "# we setup an empty Poses object\n",
    "proteins = Poses(\n",
    "    poses=None,\n",
    "    work_dir=\"./rfdiffusion_mpnn_esm_output/\",\n",
    "    storage_format=\"pickle\",\n",
    "    jobstarter=cpu_jobstarter\n",
    ")\n",
    "\n",
    "print(proteins.df)"
   ]
  },
  {
   "cell_type": "markdown",
   "metadata": {},
   "source": [
    "# Creating De Novo Proteins from Scratch with RFDiffusion"
   ]
  },
  {
   "cell_type": "code",
   "execution_count": 3,
   "metadata": {},
   "outputs": [],
   "source": [
    "# setup runner.\n",
    "rfdiffusion_runner = RFdiffusion(jobstarter=gpu_jobstarter)\n",
    "\n",
    "# start runner\n",
    "diffused_proteins = rfdiffusion_runner.run(\n",
    "    poses=proteins,\n",
    "    prefix=\"diffusion\",\n",
    "    num_diffusions=2,\n",
    "    options=\"'contigmap.contigs=[30-30]'\"\n",
    ")"
   ]
  },
  {
   "cell_type": "code",
   "execution_count": 4,
   "metadata": {},
   "outputs": [
    {
     "name": "stdout",
     "output_type": "stream",
     "text": [
      "   input_poses                                              poses  \\\n",
      "0          NaN  /home/markus/projects/ProtSLURM/examples/rfdif...   \n",
      "1          NaN  /home/markus/projects/ProtSLURM/examples/rfdif...   \n",
      "\n",
      "  poses_description  diffusion_plddt  \\\n",
      "0    diff_0001_0002         0.984567   \n",
      "1    diff_0001_0001         0.985791   \n",
      "\n",
      "                              diffusion_perres_plddt  \\\n",
      "0  [0.9473180175, 0.9793127775, 0.9843268991, 0.9...   \n",
      "1  [0.9527550340000001, 0.9807837605, 0.986410498...   \n",
      "\n",
      "  diffusion_con_hal_pdb_idx diffusion_con_ref_pdb_idx diffusion_sampled_mask  \\\n",
      "0                        []                        []                [30-30]   \n",
      "1                        []                        []                [30-30]   \n",
      "\n",
      "                                 diffusion_input_pdb diffusion_description  \\\n",
      "0  /home/markus/RFdiffusion/rfdiffusion/inference...        diff_0001_0002   \n",
      "1  /home/markus/RFdiffusion/rfdiffusion/inference...        diff_0001_0001   \n",
      "\n",
      "                                  diffusion_location  \n",
      "0  /home/markus/projects/ProtSLURM/examples/rfdif...  \n",
      "1  /home/markus/projects/ProtSLURM/examples/rfdif...  \n",
      "poses_description    diff_0001_0002\n",
      "diffusion_plddt            0.984567\n",
      "Name: 0, dtype: object\n",
      "poses_description    diff_0001_0001\n",
      "diffusion_plddt            0.985791\n",
      "Name: 1, dtype: object\n"
     ]
    }
   ],
   "source": [
    "print(diffused_proteins.df)\n",
    "for pose in diffused_proteins:\n",
    "    print(pose[[\"poses_description\", \"diffusion_plddt\"]])"
   ]
  },
  {
   "cell_type": "markdown",
   "metadata": {},
   "source": [
    "# Sequence Design for diffused poses with LigandMPNN"
   ]
  },
  {
   "cell_type": "code",
   "execution_count": 15,
   "metadata": {},
   "outputs": [],
   "source": [
    "from protslurm.tools import ligandmpnn\n",
    "\n",
    "importlib.reload(ligandmpnn)\n",
    "importlib.reload(protslurm.runners)\n",
    "\n",
    "from protslurm.tools.ligandmpnn import LigandMPNN\n",
    "\n",
    "\n",
    "# setup mover\n",
    "ligandmpnn_runner = LigandMPNN(jobstarter=cpu_jobstarter)"
   ]
  },
  {
   "cell_type": "code",
   "execution_count": 16,
   "metadata": {},
   "outputs": [
    {
     "name": "stdout",
     "output_type": "stream",
     "text": [
      "[['/home/markus/anaconda3/envs/ligandmpnn/bin/python3 /home/markus/LigandMPNN/run.py --checkpoint_soluble_mpnn=/home/markus/LigandMPNN/model_params/solublempnn_v_48_020.pt --out_folder /home/markus/projects/ProtSLURM/examples/rfdiffusion_mpnn_esm_output/mpnn_design/ --pdb_path /home/markus/projects/ProtSLURM/examples/rfdiffusion_mpnn_esm_output/diffusion/output_pdbs/diff_0001_0002.pdb --model_type=soluble_mpnn --number_of_batches=8 --parse_atoms_with_zero_occupancy=1'], ['/home/markus/anaconda3/envs/ligandmpnn/bin/python3 /home/markus/LigandMPNN/run.py --checkpoint_soluble_mpnn=/home/markus/LigandMPNN/model_params/solublempnn_v_48_020.pt --out_folder /home/markus/projects/ProtSLURM/examples/rfdiffusion_mpnn_esm_output/mpnn_design/ --pdb_path /home/markus/projects/ProtSLURM/examples/rfdiffusion_mpnn_esm_output/diffusion/output_pdbs/diff_0001_0001.pdb --model_type=soluble_mpnn --number_of_batches=8 --parse_atoms_with_zero_occupancy=1']]\n"
     ]
    }
   ],
   "source": [
    "# design 8 sequences per Pose with LigandMPNN\n",
    "proteins = ligandmpnn_runner.run(\n",
    "    poses=diffused_proteins,\n",
    "    prefix=\"mpnn_design\",\n",
    "    jobstarter=cpu_jobstarter,\n",
    "    nseq=8,\n",
    "    model_type=\"soluble_mpnn\"\n",
    ")"
   ]
  },
  {
   "cell_type": "markdown",
   "metadata": {},
   "source": [
    "# Predict Designed Sequences using ESMFold"
   ]
  },
  {
   "cell_type": "code",
   "execution_count": 20,
   "metadata": {},
   "outputs": [],
   "source": [
    "from protslurm.tools import esmfold\n",
    "\n",
    "importlib.reload(esmfold)\n",
    "\n",
    "from protslurm.tools.esmfold import ESMFold"
   ]
  },
  {
   "cell_type": "code",
   "execution_count": 21,
   "metadata": {},
   "outputs": [
    {
     "ename": "ValueError",
     "evalue": "No path is set for esmfold.py. Set the path in the config.py file under ESMFOLD_SCRIPT_PATH.",
     "output_type": "error",
     "traceback": [
      "\u001b[0;31m---------------------------------------------------------------------------\u001b[0m",
      "\u001b[0;31mValueError\u001b[0m                                Traceback (most recent call last)",
      "Cell \u001b[0;32mIn[21], line 1\u001b[0m\n\u001b[0;32m----> 1\u001b[0m esmfold_runner \u001b[38;5;241m=\u001b[39m \u001b[43mESMFold\u001b[49m\u001b[43m(\u001b[49m\u001b[43mjobstarter\u001b[49m\u001b[38;5;241;43m=\u001b[39;49m\u001b[43mgpu_jobstarter\u001b[49m\u001b[43m)\u001b[49m\n",
      "File \u001b[0;32m~/projects/ProtSLURM/protslurm/tools/esmfold.py:25\u001b[0m, in \u001b[0;36mESMFold.__init__\u001b[0;34m(self, script_path, python_path, jobstarter)\u001b[0m\n\u001b[1;32m     23\u001b[0m \u001b[38;5;250m\u001b[39m\u001b[38;5;124;03m'''jobstarter_options are set automatically, but can also be manually set. Manual setting is not recommended.'''\u001b[39;00m\n\u001b[1;32m     24\u001b[0m \u001b[38;5;28;01mif\u001b[39;00m \u001b[38;5;129;01mnot\u001b[39;00m script_path:\n\u001b[0;32m---> 25\u001b[0m     \u001b[38;5;28;01mraise\u001b[39;00m \u001b[38;5;167;01mValueError\u001b[39;00m(\u001b[38;5;124mf\u001b[39m\u001b[38;5;124m\"\u001b[39m\u001b[38;5;124mNo path is set for \u001b[39m\u001b[38;5;132;01m{\u001b[39;00m\u001b[38;5;28mself\u001b[39m\u001b[38;5;132;01m}\u001b[39;00m\u001b[38;5;124m. Set the path in the config.py file under ESMFOLD_SCRIPT_PATH.\u001b[39m\u001b[38;5;124m\"\u001b[39m)\n\u001b[1;32m     26\u001b[0m \u001b[38;5;28;01mif\u001b[39;00m \u001b[38;5;129;01mnot\u001b[39;00m python_path:\n\u001b[1;32m     27\u001b[0m     \u001b[38;5;28;01mraise\u001b[39;00m \u001b[38;5;167;01mValueError\u001b[39;00m(\u001b[38;5;124mf\u001b[39m\u001b[38;5;124m\"\u001b[39m\u001b[38;5;124mNo python path is set for \u001b[39m\u001b[38;5;132;01m{\u001b[39;00m\u001b[38;5;28mself\u001b[39m\u001b[38;5;132;01m}\u001b[39;00m\u001b[38;5;124m. Set the path in the config.py file under ESMFOLD_PYTHON_PATH.\u001b[39m\u001b[38;5;124m\"\u001b[39m)\n",
      "\u001b[0;31mValueError\u001b[0m: No path is set for esmfold.py. Set the path in the config.py file under ESMFOLD_SCRIPT_PATH."
     ]
    }
   ],
   "source": [
    "# set up runner\n",
    "esmfold_runner = ESMFold(jobstarter=gpu_jobstarter)\n",
    "\n",
    "# start predicting\n",
    "predicted_proteins = esmfold_runner.run(\n",
    "    poses=proteins,\n",
    "    prefix=\"esm\"\n",
    ")"
   ]
  },
  {
   "cell_type": "code",
   "execution_count": null,
   "metadata": {},
   "outputs": [],
   "source": []
  }
 ],
 "metadata": {
  "kernelspec": {
   "display_name": "protslurm",
   "language": "python",
   "name": "python3"
  },
  "language_info": {
   "codemirror_mode": {
    "name": "ipython",
    "version": 3
   },
   "file_extension": ".py",
   "mimetype": "text/x-python",
   "name": "python",
   "nbconvert_exporter": "python",
   "pygments_lexer": "ipython3",
   "version": "3.11.7"
  }
 },
 "nbformat": 4,
 "nbformat_minor": 2
}
