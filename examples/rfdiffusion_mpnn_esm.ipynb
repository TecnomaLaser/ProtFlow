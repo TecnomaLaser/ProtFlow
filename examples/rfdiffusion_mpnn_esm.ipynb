{
 "cells": [
  {
   "cell_type": "markdown",
   "metadata": {},
   "source": [
    "# Diffuse Proteins, Design and Predict Their Sequences"
   ]
  },
  {
   "cell_type": "markdown",
   "metadata": {},
   "source": [
    "### Setup"
   ]
  },
  {
   "cell_type": "code",
   "execution_count": 2,
   "metadata": {},
   "outputs": [],
   "source": [
    "import protslurm\n",
    "from protslurm.poses import Poses\n",
    "from protslurm.runners.rfdiffusion import RFdiffusion"
   ]
  },
  {
   "cell_type": "code",
   "execution_count": 4,
   "metadata": {},
   "outputs": [
    {
     "name": "stdout",
     "output_type": "stream",
     "text": [
      "Empty DataFrame\n",
      "Columns: [input_poses, poses, poses_description]\n",
      "Index: []\n"
     ]
    }
   ],
   "source": [
    "# first, we define the jobstarters that should be used throughout the script (this can be changed here to slurm if needed)\n",
    "cpu_jobstarter = protslurm.jobstarters.LocalJobStarter(max_cores=7)\n",
    "gpu_jobstarter = protslurm.jobstarters.LocalJobStarter(max_cores=1)\n",
    "\n",
    "# on cluster, gpu_jobstarter looks very different:\n",
    "sbatch_gpu_jobstarter = protslurm.jobstarters.SbatchArrayJobstarter(max_cores=10, gpus=1)\n",
    "\n",
    "# we setup an empty Poses object\n",
    "proteins = Poses(\n",
    "    poses=None,\n",
    "    work_dir=\"./rfdiffusion_mpnn_esm_output/\",\n",
    "    storage_format=\"pickle\",\n",
    "    jobstarter=cpu_jobstarter\n",
    ")\n",
    "\n",
    "print(proteins.df)"
   ]
  },
  {
   "cell_type": "markdown",
   "metadata": {},
   "source": [
    "# Creating De Novo Proteins from Scratch with RFDiffusion"
   ]
  },
  {
   "cell_type": "code",
   "execution_count": null,
   "metadata": {},
   "outputs": [],
   "source": [
    "# setup runner.\n",
    "rfdiffusion_runner = RFdiffusion(jobstarter=gpu_jobstarter)\n",
    "\n",
    "# start runner\n",
    "diffused_proteins = rfdiffusion_runner.run(\n",
    "    poses=proteins,\n",
    "    output_dir=\"rfdiffusion_mpnn_esm_output/general_diffusion/\"\n",
    ")"
   ]
  },
  {
   "cell_type": "code",
   "execution_count": null,
   "metadata": {},
   "outputs": [],
   "source": []
  },
  {
   "cell_type": "code",
   "execution_count": null,
   "metadata": {},
   "outputs": [],
   "source": []
  },
  {
   "cell_type": "code",
   "execution_count": null,
   "metadata": {},
   "outputs": [],
   "source": []
  }
 ],
 "metadata": {
  "kernelspec": {
   "display_name": "protslurm",
   "language": "python",
   "name": "python3"
  },
  "language_info": {
   "codemirror_mode": {
    "name": "ipython",
    "version": 3
   },
   "file_extension": ".py",
   "mimetype": "text/x-python",
   "name": "python",
   "nbconvert_exporter": "python",
   "pygments_lexer": "ipython3",
   "version": "3.11.7"
  }
 },
 "nbformat": 4,
 "nbformat_minor": 2
}
