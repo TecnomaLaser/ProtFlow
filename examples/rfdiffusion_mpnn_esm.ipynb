{
 "cells": [
  {
   "cell_type": "markdown",
   "metadata": {},
   "source": [
    "# Diffuse Proteins, Design and Predict Their Sequences"
   ]
  },
  {
   "cell_type": "markdown",
   "metadata": {},
   "source": [
    "### Setup"
   ]
  },
  {
   "cell_type": "code",
   "execution_count": 23,
   "metadata": {},
   "outputs": [
    {
     "ename": "ImportError",
     "evalue": "cannot import name 'rfdiffusion' from 'protslurm.runners.runners' (/home/markus/projects/ProtSLURM/protslurm/runners/runners.py)",
     "output_type": "error",
     "traceback": [
      "\u001b[0;31m---------------------------------------------------------------------------\u001b[0m",
      "\u001b[0;31mImportError\u001b[0m                               Traceback (most recent call last)",
      "Cell \u001b[0;32mIn[23], line 5\u001b[0m\n\u001b[1;32m      3\u001b[0m \u001b[38;5;28;01mfrom\u001b[39;00m \u001b[38;5;21;01mprotslurm\u001b[39;00m\u001b[38;5;21;01m.\u001b[39;00m\u001b[38;5;21;01mrunners\u001b[39;00m\u001b[38;5;21;01m.\u001b[39;00m\u001b[38;5;21;01mrfdiffusion\u001b[39;00m \u001b[38;5;28;01mimport\u001b[39;00m RFdiffusion\n\u001b[1;32m      4\u001b[0m \u001b[38;5;28;01mimport\u001b[39;00m \u001b[38;5;21;01mprotslurm\u001b[39;00m\u001b[38;5;21;01m.\u001b[39;00m\u001b[38;5;21;01mrunners\u001b[39;00m\u001b[38;5;21;01m.\u001b[39;00m\u001b[38;5;21;01mrunners\u001b[39;00m\n\u001b[0;32m----> 5\u001b[0m \u001b[38;5;28;01mimport\u001b[39;00m \u001b[38;5;21;01mprotslurm\u001b[39;00m\u001b[38;5;21;01m.\u001b[39;00m\u001b[38;5;21;01mrunners\u001b[39;00m\u001b[38;5;21;01m.\u001b[39;00m\u001b[38;5;21;01mrfdiffusion\u001b[39;00m \u001b[38;5;28;01mas\u001b[39;00m \u001b[38;5;21;01mrfdiffusion\u001b[39;00m\n\u001b[1;32m      7\u001b[0m \u001b[38;5;28;01mimport\u001b[39;00m \u001b[38;5;21;01mimportlib\u001b[39;00m\n\u001b[1;32m      8\u001b[0m importlib\u001b[38;5;241m.\u001b[39mreload(protslurm)\n",
      "\u001b[0;31mImportError\u001b[0m: cannot import name 'rfdiffusion' from 'protslurm.runners.runners' (/home/markus/projects/ProtSLURM/protslurm/runners/runners.py)"
     ]
    }
   ],
   "source": [
    "import protslurm\n",
    "from protslurm.poses import Poses\n",
    "from protslurm.runners.rfdiffusion import RFdiffusion\n",
    "import protslurm.runners.rfdiffusion as rfdiffusion\n",
    "\n",
    "import importlib\n",
    "importlib.reload(protslurm)\n",
    "importlib.reload(protslurm.poses)\n",
    "#importlib.reload(rfdiffusion)"
   ]
  },
  {
   "cell_type": "code",
   "execution_count": 24,
   "metadata": {},
   "outputs": [
    {
     "name": "stdout",
     "output_type": "stream",
     "text": [
      "Empty DataFrame\n",
      "Columns: [input_poses, poses, poses_description]\n",
      "Index: []\n"
     ]
    }
   ],
   "source": [
    "# first, we define the jobstarters that should be used throughout the script (this can be changed here to slurm if needed)\n",
    "cpu_jobstarter = protslurm.jobstarters.LocalJobStarter(max_cores=7)\n",
    "gpu_jobstarter = protslurm.jobstarters.LocalJobStarter(max_cores=1)\n",
    "\n",
    "# on cluster, gpu_jobstarter looks very different:\n",
    "sbatch_gpu_jobstarter = protslurm.jobstarters.SbatchArrayJobstarter(max_cores=10, gpus=1)\n",
    "\n",
    "# we setup an empty Poses object\n",
    "proteins = Poses(\n",
    "    poses=None,\n",
    "    work_dir=\"./rfdiffusion_mpnn_esm_output/\",\n",
    "    storage_format=\"pickle\",\n",
    "    jobstarter=cpu_jobstarter\n",
    ")\n",
    "\n",
    "print(proteins.df)"
   ]
  },
  {
   "cell_type": "markdown",
   "metadata": {},
   "source": [
    "# Creating De Novo Proteins from Scratch with RFDiffusion"
   ]
  },
  {
   "cell_type": "code",
   "execution_count": 25,
   "metadata": {},
   "outputs": [
    {
     "ename": "TypeError",
     "evalue": "RFdiffusion.__init__() got an unexpected keyword argument 'jobstarter'",
     "output_type": "error",
     "traceback": [
      "\u001b[0;31m---------------------------------------------------------------------------\u001b[0m",
      "\u001b[0;31mTypeError\u001b[0m                                 Traceback (most recent call last)",
      "Cell \u001b[0;32mIn[25], line 2\u001b[0m\n\u001b[1;32m      1\u001b[0m \u001b[38;5;66;03m# setup runner.\u001b[39;00m\n\u001b[0;32m----> 2\u001b[0m rfdiffusion_runner \u001b[38;5;241m=\u001b[39m \u001b[43mRFdiffusion\u001b[49m\u001b[43m(\u001b[49m\u001b[43mjobstarter\u001b[49m\u001b[38;5;241;43m=\u001b[39;49m\u001b[43mgpu_jobstarter\u001b[49m\u001b[43m)\u001b[49m\n\u001b[1;32m      4\u001b[0m \u001b[38;5;66;03m# start runner\u001b[39;00m\n\u001b[1;32m      5\u001b[0m diffused_proteins \u001b[38;5;241m=\u001b[39m rfdiffusion_runner\u001b[38;5;241m.\u001b[39mrun(\n\u001b[1;32m      6\u001b[0m     poses\u001b[38;5;241m=\u001b[39mproteins,\n\u001b[1;32m      7\u001b[0m     prefix\u001b[38;5;241m=\u001b[39m\u001b[38;5;124m\"\u001b[39m\u001b[38;5;124mdiffusion\u001b[39m\u001b[38;5;124m\"\u001b[39m,\n\u001b[1;32m      8\u001b[0m     num_diffusions\u001b[38;5;241m=\u001b[39m\u001b[38;5;241m3\u001b[39m,\n\u001b[1;32m      9\u001b[0m     options\u001b[38;5;241m=\u001b[39m\u001b[38;5;124m\"\u001b[39m\u001b[38;5;124m'\u001b[39m\u001b[38;5;124mcontigmap.contigs=[100-200]\u001b[39m\u001b[38;5;124m'\u001b[39m\u001b[38;5;124m\"\u001b[39m\n\u001b[1;32m     10\u001b[0m )\n",
      "\u001b[0;31mTypeError\u001b[0m: RFdiffusion.__init__() got an unexpected keyword argument 'jobstarter'"
     ]
    }
   ],
   "source": [
    "# setup runner.\n",
    "rfdiffusion_runner = RFdiffusion(jobstarter=gpu_jobstarter)\n",
    "\n",
    "# start runner\n",
    "diffused_proteins = rfdiffusion_runner.run(\n",
    "    poses=proteins,\n",
    "    prefix=\"diffusion\",\n",
    "    num_diffusions=3,\n",
    "    options=\"'contigmap.contigs=[100-200]'\"\n",
    ")"
   ]
  },
  {
   "cell_type": "code",
   "execution_count": null,
   "metadata": {},
   "outputs": [],
   "source": []
  },
  {
   "cell_type": "code",
   "execution_count": null,
   "metadata": {},
   "outputs": [],
   "source": []
  },
  {
   "cell_type": "code",
   "execution_count": null,
   "metadata": {},
   "outputs": [],
   "source": []
  }
 ],
 "metadata": {
  "kernelspec": {
   "display_name": "protslurm",
   "language": "python",
   "name": "python3"
  },
  "language_info": {
   "codemirror_mode": {
    "name": "ipython",
    "version": 3
   },
   "file_extension": ".py",
   "mimetype": "text/x-python",
   "name": "python",
   "nbconvert_exporter": "python",
   "pygments_lexer": "ipython3",
   "version": "3.11.7"
  }
 },
 "nbformat": 4,
 "nbformat_minor": 2
}
