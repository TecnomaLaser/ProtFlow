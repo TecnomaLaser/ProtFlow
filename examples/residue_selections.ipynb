{
 "cells": [
  {
   "cell_type": "markdown",
   "metadata": {},
   "source": [
    "# Residue Selections in Protslurm\n",
    "Protslurm handles residue selections in its internal module protslurm.residues"
   ]
  },
  {
   "cell_type": "code",
   "execution_count": 18,
   "metadata": {},
   "outputs": [
    {
     "data": {
      "text/plain": [
       "<module 'protslurm' from '/home/markus/projects/ProtSLURM/protslurm/__init__.py'>"
      ]
     },
     "execution_count": 18,
     "metadata": {},
     "output_type": "execute_result"
    }
   ],
   "source": [
    "import protslurm\n",
    "import protslurm.residues\n",
    "\n",
    "from protslurm.residues import residue_selection\n",
    "from protslurm.residues import ResidueSelection\n",
    "\n",
    "import importlib\n",
    "importlib.reload(protslurm)"
   ]
  },
  {
   "cell_type": "markdown",
   "metadata": {},
   "source": [
    "#### Creating Residue Selections\n",
    "Residue Selection Objects can be created either by directly constructing them with the ResidueSelection object, or with the function residue_selection().\n",
    "\n",
    "The residues are stored as a tuple of tuples (immutable) containing chain and residue-id for each residue like this: ((chain, id_1), (chain, id_2), ...).\n",
    "\n",
    "Residues can be accessed through the .residues attribute of the ResidueSelection class.\n"
   ]
  },
  {
   "cell_type": "code",
   "execution_count": 19,
   "metadata": {},
   "outputs": [
    {
     "name": "stdout",
     "output_type": "stream",
     "text": [
      "A1, A2, A3, A14, A15\n",
      "A1, A2, A3, A14, A15\n",
      "(('A', 1), ('A', 2), ('A', 3), ('A', 14), ('A', 15))\n"
     ]
    }
   ],
   "source": [
    "selection = [\"A1\", \"A2\", \"A3\", \"A14\", \"A15\"]\n",
    "\n",
    "# create residues with creation function\n",
    "resis = residue_selection(selection)\n",
    "print(resis)\n",
    "\n",
    "# create residues with Class Constructor\n",
    "resis = ResidueSelection(selection)\n",
    "print(resis)\n",
    "print(resis.residues)"
   ]
  },
  {
   "cell_type": "markdown",
   "metadata": {},
   "source": [
    "Creating a residue selection preserves the order of the input selection. Inputs can be given with chain first or chain last. The ResidueSelector constructor automatically detects the format."
   ]
  },
  {
   "cell_type": "code",
   "execution_count": 20,
   "metadata": {},
   "outputs": [
    {
     "name": "stdout",
     "output_type": "stream",
     "text": [
      "(('A', 14), ('B', 14), ('C', 14), ('A', 15), ('C', 15), ('B', 3))\n",
      "(('A', 14), ('B', 14), ('C', 14), ('A', 15), ('C', 15), ('B', 3))\n"
     ]
    }
   ],
   "source": [
    "selection_a = [\"A14\", \"B14\", \"C14\", \"A15\", \"C15\", \"B3\"]\n",
    "selection_b = [\"A14\", \"14B\", \"C14\", \"15A\", \"15C\", \"3B\"]\n",
    "\n",
    "# order (even over chains) of residues in the input selection is preserved in the ResidueSelector Tuple:\n",
    "resis = residue_selection(selection_a)\n",
    "print(resis.residues)\n",
    "\n",
    "# create selections with random order of chain and residue indeces\n",
    "resis = residue_selection(selection_b)\n",
    "print(resis.residues)"
   ]
  },
  {
   "cell_type": "markdown",
   "metadata": {},
   "source": [
    "ResiduesSelector objects can also be constructed from strings as input."
   ]
  },
  {
   "cell_type": "code",
   "execution_count": 21,
   "metadata": {},
   "outputs": [
    {
     "name": "stdout",
     "output_type": "stream",
     "text": [
      "A1, A2, A3, C14, C15, C16\n",
      "A1, A2, A3, C14, C15, C16\n"
     ]
    }
   ],
   "source": [
    "# create string\n",
    "selection = \"A1,A2,A3,C14,C15,C16\"\n",
    "selection_b = \"A1/A2/A3/C14/C15/C16\"\n",
    "\n",
    "# create selection\n",
    "resis = residue_selection(selection)\n",
    "print(resis)\n",
    "\n",
    "# create selection with separator:\n",
    "resis = residue_selection(selection_b, delim=\"/\")\n",
    "print(resis)\n"
   ]
  },
  {
   "cell_type": "markdown",
   "metadata": {},
   "source": [
    "#### Output\n",
    "ResidueSelection classes can be converted to strings and lists with custom ordering of chain and index."
   ]
  },
  {
   "cell_type": "code",
   "execution_count": 24,
   "metadata": {},
   "outputs": [
    {
     "ename": "AttributeError",
     "evalue": "'NoneType' object has no attribute 'lower'",
     "output_type": "error",
     "traceback": [
      "\u001b[0;31m---------------------------------------------------------------------------\u001b[0m",
      "\u001b[0;31mAttributeError\u001b[0m                            Traceback (most recent call last)",
      "Cell \u001b[0;32mIn[24], line 8\u001b[0m\n\u001b[1;32m      5\u001b[0m resis \u001b[38;5;241m=\u001b[39m protslurm\u001b[38;5;241m.\u001b[39mresidues\u001b[38;5;241m.\u001b[39mresidue_selection(selection)\n\u001b[1;32m      7\u001b[0m \u001b[38;5;66;03m# create a string\u001b[39;00m\n\u001b[0;32m----> 8\u001b[0m resis_str \u001b[38;5;241m=\u001b[39m \u001b[43mresis\u001b[49m\u001b[38;5;241;43m.\u001b[39;49m\u001b[43mto_string\u001b[49m\u001b[43m(\u001b[49m\u001b[43m)\u001b[49m\n\u001b[1;32m      9\u001b[0m \u001b[38;5;28mprint\u001b[39m(resis_str)\n\u001b[1;32m     11\u001b[0m \u001b[38;5;66;03m# create a list with Rosetta Ordering\u001b[39;00m\n",
      "File \u001b[0;32m~/projects/ProtSLURM/protslurm/residues.py:25\u001b[0m, in \u001b[0;36mResidueSelection.to_string\u001b[0;34m(self, delim, ordering)\u001b[0m\n\u001b[1;32m     23\u001b[0m \u001b[38;5;28;01mdef\u001b[39;00m \u001b[38;5;21mto_string\u001b[39m(\u001b[38;5;28mself\u001b[39m, delim:\u001b[38;5;28;01mNone\u001b[39;00m\u001b[38;5;241m=\u001b[39m\u001b[38;5;124m\"\u001b[39m\u001b[38;5;124m,\u001b[39m\u001b[38;5;124m\"\u001b[39m, ordering:\u001b[38;5;28mstr\u001b[39m\u001b[38;5;241m=\u001b[39m\u001b[38;5;28;01mNone\u001b[39;00m) \u001b[38;5;241m-\u001b[39m\u001b[38;5;241m>\u001b[39m \u001b[38;5;28mstr\u001b[39m:\n\u001b[1;32m     24\u001b[0m \u001b[38;5;250m    \u001b[39m\u001b[38;5;124;03m'''Converts ResidueSelection to string.'''\u001b[39;00m\n\u001b[0;32m---> 25\u001b[0m     \u001b[38;5;28;01mif\u001b[39;00m \u001b[43mordering\u001b[49m\u001b[38;5;241;43m.\u001b[39;49m\u001b[43mlower\u001b[49m() \u001b[38;5;241m==\u001b[39m \u001b[38;5;124m\"\u001b[39m\u001b[38;5;124mrosetta\u001b[39m\u001b[38;5;124m\"\u001b[39m:\n\u001b[1;32m     26\u001b[0m         \u001b[38;5;28;01mreturn\u001b[39;00m delim\u001b[38;5;241m.\u001b[39mjoin([\u001b[38;5;28mstr\u001b[39m(idx) \u001b[38;5;241m+\u001b[39m chain \u001b[38;5;28;01mfor\u001b[39;00m chain, idx \u001b[38;5;129;01min\u001b[39;00m \u001b[38;5;28mself\u001b[39m])\n\u001b[1;32m     27\u001b[0m     \u001b[38;5;28;01mif\u001b[39;00m ordering\u001b[38;5;241m.\u001b[39mlower() \u001b[38;5;241m==\u001b[39m \u001b[38;5;124m\"\u001b[39m\u001b[38;5;124mpymol\u001b[39m\u001b[38;5;124m\"\u001b[39m:\n",
      "\u001b[0;31mAttributeError\u001b[0m: 'NoneType' object has no attribute 'lower'"
     ]
    }
   ],
   "source": [
    "importlib.reload(protslurm)\n",
    "\n",
    "# create selection\n",
    "selection = \"A1,A2,A3,C14,C15,C16\"\n",
    "resis = protslurm.residues.residue_selection(selection)\n",
    "\n",
    "# create a string\n",
    "resis_str = resis.to_string()\n",
    "print(resis_str)\n",
    "\n",
    "# create a list with Rosetta Ordering\n",
    "resis_list = resis.to_list(ordering=\"rosetta\")\n",
    "print(resis_list)"
   ]
  },
  {
   "cell_type": "markdown",
   "metadata": {},
   "source": [
    "#### Iteration\n",
    "ResidueSelector Objects are iterable. Any iteration function iterates over the ResidueSelection.residues tuple."
   ]
  },
  {
   "cell_type": "code",
   "execution_count": null,
   "metadata": {},
   "outputs": [],
   "source": [
    "# create selection\n",
    "selection_a = [\"A14\", \"B14\", \"C14\", \"A15\", \"C15\", \"B3\"]\n",
    "resis = residue_selection(selection_a)\n",
    "\n",
    "# iterate. Iterating over ResidueSelection.residues or ResidueSelection is therefore the same.\n",
    "for chain, res_id in resis:\n",
    "    print(chain, res_id)"
   ]
  },
  {
   "cell_type": "code",
   "execution_count": null,
   "metadata": {},
   "outputs": [],
   "source": []
  },
  {
   "cell_type": "code",
   "execution_count": null,
   "metadata": {},
   "outputs": [],
   "source": [
    "x = None\n",
    "y = x or \"\""
   ]
  },
  {
   "cell_type": "code",
   "execution_count": null,
   "metadata": {},
   "outputs": [],
   "source": [
    "print(y)"
   ]
  },
  {
   "cell_type": "code",
   "execution_count": null,
   "metadata": {},
   "outputs": [],
   "source": []
  }
 ],
 "metadata": {
  "kernelspec": {
   "display_name": "protslurm",
   "language": "python",
   "name": "python3"
  },
  "language_info": {
   "codemirror_mode": {
    "name": "ipython",
    "version": 3
   },
   "file_extension": ".py",
   "mimetype": "text/x-python",
   "name": "python",
   "nbconvert_exporter": "python",
   "pygments_lexer": "ipython3",
   "version": "3.11.7"
  }
 },
 "nbformat": 4,
 "nbformat_minor": 2
}
