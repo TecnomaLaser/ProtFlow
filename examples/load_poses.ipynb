{
 "cells": [
  {
   "cell_type": "markdown",
   "metadata": {},
   "source": [
    "# Loading Poses"
   ]
  },
  {
   "cell_type": "markdown",
   "metadata": {},
   "source": [
    "First, we have to import everything we need."
   ]
  },
  {
   "cell_type": "code",
   "execution_count": 6,
   "metadata": {},
   "outputs": [],
   "source": [
    "import sys\n",
    "sys.path.append(\"..\") # add the path to the protslurm directory (e.g. /home/username/ProtSlurm)\n",
    "from protslurm.poses import Poses"
   ]
  },
  {
   "cell_type": "markdown",
   "metadata": {},
   "source": [
    "We can load poses either from a directory, a list of files or from a previously generated poses scorefile. We will start by loading them from a directory containing .pdb files by providing the path to the directory and a glob suffix, which indicates that only files ending with .pdb should be loaded.\n",
    "We can then look at the poses dataframe, which will be automatically created upon initialization of the poses."
   ]
  },
  {
   "cell_type": "code",
   "execution_count": 7,
   "metadata": {},
   "outputs": [
    {
     "data": {
      "text/html": [
       "<div>\n",
       "<style scoped>\n",
       "    .dataframe tbody tr th:only-of-type {\n",
       "        vertical-align: middle;\n",
       "    }\n",
       "\n",
       "    .dataframe tbody tr th {\n",
       "        vertical-align: top;\n",
       "    }\n",
       "\n",
       "    .dataframe thead th {\n",
       "        text-align: right;\n",
       "    }\n",
       "</style>\n",
       "<table border=\"1\" class=\"dataframe\">\n",
       "  <thead>\n",
       "    <tr style=\"text-align: right;\">\n",
       "      <th></th>\n",
       "      <th>input_poses</th>\n",
       "      <th>poses</th>\n",
       "      <th>poses_description</th>\n",
       "    </tr>\n",
       "  </thead>\n",
       "  <tbody>\n",
       "    <tr>\n",
       "      <th>0</th>\n",
       "      <td>data/input_pdbs/structure1.pdb</td>\n",
       "      <td>data/input_pdbs/structure1.pdb</td>\n",
       "      <td>structure1</td>\n",
       "    </tr>\n",
       "    <tr>\n",
       "      <th>1</th>\n",
       "      <td>data/input_pdbs/structure3.pdb</td>\n",
       "      <td>data/input_pdbs/structure3.pdb</td>\n",
       "      <td>structure3</td>\n",
       "    </tr>\n",
       "    <tr>\n",
       "      <th>2</th>\n",
       "      <td>data/input_pdbs/structure2.pdb</td>\n",
       "      <td>data/input_pdbs/structure2.pdb</td>\n",
       "      <td>structure2</td>\n",
       "    </tr>\n",
       "  </tbody>\n",
       "</table>\n",
       "</div>"
      ],
      "text/plain": [
       "                      input_poses                           poses  \\\n",
       "0  data/input_pdbs/structure1.pdb  data/input_pdbs/structure1.pdb   \n",
       "1  data/input_pdbs/structure3.pdb  data/input_pdbs/structure3.pdb   \n",
       "2  data/input_pdbs/structure2.pdb  data/input_pdbs/structure2.pdb   \n",
       "\n",
       "  poses_description  \n",
       "0        structure1  \n",
       "1        structure3  \n",
       "2        structure2  "
      ]
     },
     "metadata": {},
     "output_type": "display_data"
    }
   ],
   "source": [
    "# load poses from directory\n",
    "poses = Poses(poses='data/input_pdbs/', glob_suffix='*pdb')\n",
    "\n",
    "# show poses dataframe\n",
    "display(poses.df)"
   ]
  },
  {
   "cell_type": "markdown",
   "metadata": {},
   "source": [
    "The poses dataframe always contains the path to the current poses ('poses' column) and the name of the current poses ('poses_description' column). Additionally, it can contain various scores and other infos. The length of the dataframe always corresponds to the current number of poses. The current poses dataframe can be saved using the save scores attribute to the path indicated with <out_path> and the file extension <out_format>."
   ]
  },
  {
   "cell_type": "code",
   "execution_count": 8,
   "metadata": {},
   "outputs": [],
   "source": [
    "poses.save_scores(out_path=\"poses_examples\", out_format=\"csv\")"
   ]
  },
  {
   "cell_type": "markdown",
   "metadata": {},
   "source": [
    "We can also load poses by passing a list of pdb files instead of just loading all pdb files from a directory:"
   ]
  },
  {
   "cell_type": "code",
   "execution_count": 67,
   "metadata": {},
   "outputs": [
    {
     "data": {
      "text/html": [
       "<div>\n",
       "<style scoped>\n",
       "    .dataframe tbody tr th:only-of-type {\n",
       "        vertical-align: middle;\n",
       "    }\n",
       "\n",
       "    .dataframe tbody tr th {\n",
       "        vertical-align: top;\n",
       "    }\n",
       "\n",
       "    .dataframe thead th {\n",
       "        text-align: right;\n",
       "    }\n",
       "</style>\n",
       "<table border=\"1\" class=\"dataframe\">\n",
       "  <thead>\n",
       "    <tr style=\"text-align: right;\">\n",
       "      <th></th>\n",
       "      <th>input_poses</th>\n",
       "      <th>poses</th>\n",
       "      <th>poses_description</th>\n",
       "    </tr>\n",
       "  </thead>\n",
       "  <tbody>\n",
       "    <tr>\n",
       "      <th>0</th>\n",
       "      <td>data/input_pdbs/structure1.pdb</td>\n",
       "      <td>data/input_pdbs/structure1.pdb</td>\n",
       "      <td>structure1</td>\n",
       "    </tr>\n",
       "    <tr>\n",
       "      <th>1</th>\n",
       "      <td>data/input_pdbs/structure2.pdb</td>\n",
       "      <td>data/input_pdbs/structure2.pdb</td>\n",
       "      <td>structure2</td>\n",
       "    </tr>\n",
       "  </tbody>\n",
       "</table>\n",
       "</div>"
      ],
      "text/plain": [
       "                      input_poses                           poses  \\\n",
       "0  data/input_pdbs/structure1.pdb  data/input_pdbs/structure1.pdb   \n",
       "1  data/input_pdbs/structure2.pdb  data/input_pdbs/structure2.pdb   \n",
       "\n",
       "  poses_description  \n",
       "0        structure1  \n",
       "1        structure2  "
      ]
     },
     "metadata": {},
     "output_type": "display_data"
    }
   ],
   "source": [
    "# load poses from list\n",
    "poses = Poses(poses=['data/input_pdbs/structure1.pdb', 'data/input_pdbs/structure2.pdb'])\n",
    "\n",
    "# show poses dataframe\n",
    "display(poses.df)"
   ]
  },
  {
   "cell_type": "markdown",
   "metadata": {},
   "source": [
    "Alternatively, we can load the previously saved poses dataframe to create new poses. You can also directly pass a dataframe to poses instead of loading it from a file."
   ]
  },
  {
   "cell_type": "code",
   "execution_count": 9,
   "metadata": {},
   "outputs": [
    {
     "data": {
      "text/html": [
       "<div>\n",
       "<style scoped>\n",
       "    .dataframe tbody tr th:only-of-type {\n",
       "        vertical-align: middle;\n",
       "    }\n",
       "\n",
       "    .dataframe tbody tr th {\n",
       "        vertical-align: top;\n",
       "    }\n",
       "\n",
       "    .dataframe thead th {\n",
       "        text-align: right;\n",
       "    }\n",
       "</style>\n",
       "<table border=\"1\" class=\"dataframe\">\n",
       "  <thead>\n",
       "    <tr style=\"text-align: right;\">\n",
       "      <th></th>\n",
       "      <th>Unnamed: 0</th>\n",
       "      <th>input_poses</th>\n",
       "      <th>poses</th>\n",
       "      <th>poses_description</th>\n",
       "    </tr>\n",
       "  </thead>\n",
       "  <tbody>\n",
       "    <tr>\n",
       "      <th>0</th>\n",
       "      <td>0</td>\n",
       "      <td>data/input_pdbs/structure1.pdb</td>\n",
       "      <td>data/input_pdbs/structure1.pdb</td>\n",
       "      <td>structure1</td>\n",
       "    </tr>\n",
       "    <tr>\n",
       "      <th>1</th>\n",
       "      <td>1</td>\n",
       "      <td>data/input_pdbs/structure3.pdb</td>\n",
       "      <td>data/input_pdbs/structure3.pdb</td>\n",
       "      <td>structure3</td>\n",
       "    </tr>\n",
       "    <tr>\n",
       "      <th>2</th>\n",
       "      <td>2</td>\n",
       "      <td>data/input_pdbs/structure2.pdb</td>\n",
       "      <td>data/input_pdbs/structure2.pdb</td>\n",
       "      <td>structure2</td>\n",
       "    </tr>\n",
       "  </tbody>\n",
       "</table>\n",
       "</div>"
      ],
      "text/plain": [
       "   Unnamed: 0                     input_poses                           poses  \\\n",
       "0           0  data/input_pdbs/structure1.pdb  data/input_pdbs/structure1.pdb   \n",
       "1           1  data/input_pdbs/structure3.pdb  data/input_pdbs/structure3.pdb   \n",
       "2           2  data/input_pdbs/structure2.pdb  data/input_pdbs/structure2.pdb   \n",
       "\n",
       "  poses_description  \n",
       "0        structure1  \n",
       "1        structure3  \n",
       "2        structure2  "
      ]
     },
     "metadata": {},
     "output_type": "display_data"
    }
   ],
   "source": [
    "poses = Poses(poses=\"poses_examples.csv\")\n",
    "# show poses dataframe\n",
    "display(poses.df)"
   ]
  },
  {
   "cell_type": "code",
   "execution_count": null,
   "metadata": {},
   "outputs": [],
   "source": []
  }
 ],
 "metadata": {
  "kernelspec": {
   "display_name": "protslurm",
   "language": "python",
   "name": "python3"
  },
  "language_info": {
   "codemirror_mode": {
    "name": "ipython",
    "version": 3
   },
   "file_extension": ".py",
   "mimetype": "text/x-python",
   "name": "python",
   "nbconvert_exporter": "python",
   "pygments_lexer": "ipython3",
   "version": "3.11.7"
  }
 },
 "nbformat": 4,
 "nbformat_minor": 2
}
