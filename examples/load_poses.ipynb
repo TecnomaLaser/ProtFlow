{
 "cells": [
  {
   "cell_type": "markdown",
   "metadata": {},
   "source": [
    "# Loading Poses"
   ]
  },
  {
   "cell_type": "markdown",
   "metadata": {},
   "source": [
    "First, we have to import everything we need. Make sure you are using the correct python environment for ProtSlurm!"
   ]
  },
  {
   "cell_type": "code",
   "execution_count": 21,
   "metadata": {},
   "outputs": [],
   "source": [
    "import sys\n",
    "sys.path.append(\"..\") # add the path to the protslurm directory (e.g. /home/username/ProtSlurm)\n",
    "from protslurm.poses import Poses"
   ]
  },
  {
   "cell_type": "markdown",
   "metadata": {},
   "source": [
    "We can load poses either from a directory, a list of files or from a previously generated poses scorefile. We will start by loading them from a directory containing .pdb files by providing the path to the directory and a glob suffix, which indicates that only files ending with .pdb should be loaded.\n",
    "We can then look at the poses dataframe, which will be automatically created upon initialization of the poses."
   ]
  },
  {
   "cell_type": "code",
   "execution_count": 22,
   "metadata": {},
   "outputs": [
    {
     "data": {
      "text/html": [
       "<div>\n",
       "<style scoped>\n",
       "    .dataframe tbody tr th:only-of-type {\n",
       "        vertical-align: middle;\n",
       "    }\n",
       "\n",
       "    .dataframe tbody tr th {\n",
       "        vertical-align: top;\n",
       "    }\n",
       "\n",
       "    .dataframe thead th {\n",
       "        text-align: right;\n",
       "    }\n",
       "</style>\n",
       "<table border=\"1\" class=\"dataframe\">\n",
       "  <thead>\n",
       "    <tr style=\"text-align: right;\">\n",
       "      <th></th>\n",
       "      <th>input_poses</th>\n",
       "      <th>poses</th>\n",
       "      <th>poses_description</th>\n",
       "    </tr>\n",
       "  </thead>\n",
       "  <tbody>\n",
       "    <tr>\n",
       "      <th>0</th>\n",
       "      <td>data/input_pdbs/structure1.pdb</td>\n",
       "      <td>data/input_pdbs/structure1.pdb</td>\n",
       "      <td>structure1</td>\n",
       "    </tr>\n",
       "    <tr>\n",
       "      <th>1</th>\n",
       "      <td>data/input_pdbs/structure3.pdb</td>\n",
       "      <td>data/input_pdbs/structure3.pdb</td>\n",
       "      <td>structure3</td>\n",
       "    </tr>\n",
       "    <tr>\n",
       "      <th>2</th>\n",
       "      <td>data/input_pdbs/structure2.pdb</td>\n",
       "      <td>data/input_pdbs/structure2.pdb</td>\n",
       "      <td>structure2</td>\n",
       "    </tr>\n",
       "  </tbody>\n",
       "</table>\n",
       "</div>"
      ],
      "text/plain": [
       "                      input_poses                           poses  \\\n",
       "0  data/input_pdbs/structure1.pdb  data/input_pdbs/structure1.pdb   \n",
       "1  data/input_pdbs/structure3.pdb  data/input_pdbs/structure3.pdb   \n",
       "2  data/input_pdbs/structure2.pdb  data/input_pdbs/structure2.pdb   \n",
       "\n",
       "  poses_description  \n",
       "0        structure1  \n",
       "1        structure3  \n",
       "2        structure2  "
      ]
     },
     "metadata": {},
     "output_type": "display_data"
    }
   ],
   "source": [
    "# load poses from directory\n",
    "my_poses = Poses(poses='data/input_pdbs/', glob_suffix='*pdb')\n",
    "\n",
    "# show poses dataframe\n",
    "display(my_poses.df)"
   ]
  },
  {
   "cell_type": "markdown",
   "metadata": {},
   "source": [
    "The poses dataframe always contains the path to the current poses ('poses' column) and the name of the current poses ('poses_description' column). Additionally, it can contain various scores and other infos. The length of the dataframe always corresponds to the current number of poses. The current poses dataframe can be saved using the save scores attribute to the path indicated with <out_path> and the file extension <out_format>."
   ]
  },
  {
   "cell_type": "code",
   "execution_count": 23,
   "metadata": {},
   "outputs": [],
   "source": [
    "my_poses.save_scores(out_path=\"poses_examples\", out_format=\"json\")"
   ]
  },
  {
   "cell_type": "markdown",
   "metadata": {},
   "source": [
    "We can also load poses by passing a list of pdb files instead of just loading all pdb files from a directory:"
   ]
  },
  {
   "cell_type": "code",
   "execution_count": 24,
   "metadata": {},
   "outputs": [
    {
     "data": {
      "text/html": [
       "<div>\n",
       "<style scoped>\n",
       "    .dataframe tbody tr th:only-of-type {\n",
       "        vertical-align: middle;\n",
       "    }\n",
       "\n",
       "    .dataframe tbody tr th {\n",
       "        vertical-align: top;\n",
       "    }\n",
       "\n",
       "    .dataframe thead th {\n",
       "        text-align: right;\n",
       "    }\n",
       "</style>\n",
       "<table border=\"1\" class=\"dataframe\">\n",
       "  <thead>\n",
       "    <tr style=\"text-align: right;\">\n",
       "      <th></th>\n",
       "      <th>input_poses</th>\n",
       "      <th>poses</th>\n",
       "      <th>poses_description</th>\n",
       "    </tr>\n",
       "  </thead>\n",
       "  <tbody>\n",
       "    <tr>\n",
       "      <th>0</th>\n",
       "      <td>data/input_pdbs/structure1.pdb</td>\n",
       "      <td>data/input_pdbs/structure1.pdb</td>\n",
       "      <td>structure1</td>\n",
       "    </tr>\n",
       "    <tr>\n",
       "      <th>1</th>\n",
       "      <td>data/input_pdbs/structure2.pdb</td>\n",
       "      <td>data/input_pdbs/structure2.pdb</td>\n",
       "      <td>structure2</td>\n",
       "    </tr>\n",
       "  </tbody>\n",
       "</table>\n",
       "</div>"
      ],
      "text/plain": [
       "                      input_poses                           poses  \\\n",
       "0  data/input_pdbs/structure1.pdb  data/input_pdbs/structure1.pdb   \n",
       "1  data/input_pdbs/structure2.pdb  data/input_pdbs/structure2.pdb   \n",
       "\n",
       "  poses_description  \n",
       "0        structure1  \n",
       "1        structure2  "
      ]
     },
     "metadata": {},
     "output_type": "display_data"
    }
   ],
   "source": [
    "# load poses from list\n",
    "my_poses = Poses(poses=['data/input_pdbs/structure1.pdb', 'data/input_pdbs/structure2.pdb'])\n",
    "\n",
    "# show poses dataframe\n",
    "display(my_poses.df)"
   ]
  },
  {
   "cell_type": "markdown",
   "metadata": {},
   "source": [
    "Alternatively, we can load the previously saved poses dataframe to create new poses. You can also directly pass a dataframe to poses instead of loading it from a file (but be careful, it must always contain the columns 'input_poses', 'poses' and 'poses_description'!)."
   ]
  },
  {
   "cell_type": "code",
   "execution_count": 25,
   "metadata": {},
   "outputs": [
    {
     "data": {
      "text/html": [
       "<div>\n",
       "<style scoped>\n",
       "    .dataframe tbody tr th:only-of-type {\n",
       "        vertical-align: middle;\n",
       "    }\n",
       "\n",
       "    .dataframe tbody tr th {\n",
       "        vertical-align: top;\n",
       "    }\n",
       "\n",
       "    .dataframe thead th {\n",
       "        text-align: right;\n",
       "    }\n",
       "</style>\n",
       "<table border=\"1\" class=\"dataframe\">\n",
       "  <thead>\n",
       "    <tr style=\"text-align: right;\">\n",
       "      <th></th>\n",
       "      <th>input_poses</th>\n",
       "      <th>poses</th>\n",
       "      <th>poses_description</th>\n",
       "    </tr>\n",
       "  </thead>\n",
       "  <tbody>\n",
       "    <tr>\n",
       "      <th>0</th>\n",
       "      <td>data/input_pdbs/structure1.pdb</td>\n",
       "      <td>data/input_pdbs/structure1.pdb</td>\n",
       "      <td>structure1</td>\n",
       "    </tr>\n",
       "    <tr>\n",
       "      <th>1</th>\n",
       "      <td>data/input_pdbs/structure3.pdb</td>\n",
       "      <td>data/input_pdbs/structure3.pdb</td>\n",
       "      <td>structure3</td>\n",
       "    </tr>\n",
       "    <tr>\n",
       "      <th>2</th>\n",
       "      <td>data/input_pdbs/structure2.pdb</td>\n",
       "      <td>data/input_pdbs/structure2.pdb</td>\n",
       "      <td>structure2</td>\n",
       "    </tr>\n",
       "  </tbody>\n",
       "</table>\n",
       "</div>"
      ],
      "text/plain": [
       "                      input_poses                           poses  \\\n",
       "0  data/input_pdbs/structure1.pdb  data/input_pdbs/structure1.pdb   \n",
       "1  data/input_pdbs/structure3.pdb  data/input_pdbs/structure3.pdb   \n",
       "2  data/input_pdbs/structure2.pdb  data/input_pdbs/structure2.pdb   \n",
       "\n",
       "  poses_description  \n",
       "0        structure1  \n",
       "1        structure3  \n",
       "2        structure2  "
      ]
     },
     "metadata": {},
     "output_type": "display_data"
    }
   ],
   "source": [
    "my_poses = Poses(poses=\"poses_examples.json\")\n",
    "# show poses dataframe\n",
    "display(my_poses.df)"
   ]
  },
  {
   "cell_type": "markdown",
   "metadata": {},
   "source": [
    "# Setting up poses"
   ]
  },
  {
   "cell_type": "markdown",
   "metadata": {},
   "source": [
    "In order to manipulate our poses, we have to set our working directory. This is also the directory where our poses dataframe will be automatically saved. The directory will be created (including subdirectories for things like filters, plots and scores) if it does not exist. Alternatively, you can also directly set the working directory when loading the poses using <work_dir>.\n",
    "\n",
    "If save_scores is used without attributes, the scorefile will always be saved to the working directory and named after this directory. We can modify the default scorefile format using the set_storage_format attribute."
   ]
  },
  {
   "cell_type": "code",
   "execution_count": 26,
   "metadata": {},
   "outputs": [
    {
     "name": "stdout",
     "output_type": "stream",
     "text": [
      "load_poses_example\n",
      "csv\n"
     ]
    }
   ],
   "source": [
    "# set up working directory\n",
    "my_poses.set_work_dir('load_poses_example')\n",
    "print(my_poses.work_dir)\n",
    "\n",
    "# define a new storage format\n",
    "my_poses.set_storage_format(storage_format=\"csv\")\n",
    "print(my_poses.storage_format)\n",
    "\n",
    "# save scores to working directory\n",
    "my_poses.save_scores()"
   ]
  },
  {
   "cell_type": "markdown",
   "metadata": {},
   "source": [
    "Another important thing to consider is setting a default jobstarter. This jobstarter will be used for any runner if no explicit jobstarter is provided. Jobstarters handle how compute jobs are distributed and will be explained in detail later."
   ]
  },
  {
   "cell_type": "code",
   "execution_count": 27,
   "metadata": {},
   "outputs": [
    {
     "name": "stdout",
     "output_type": "stream",
     "text": [
      "<protslurm.jobstarters.LocalJobStarter object at 0x7fad486cb710>\n"
     ]
    }
   ],
   "source": [
    "# import the jobstarter\n",
    "from protslurm.jobstarters import LocalJobStarter\n",
    "\n",
    "# define the jobstarter you want to use. In this case, we use the local jobstarter which runs everything on the current machine and does not use any job management applications like SLURM\n",
    "my_jobstarter = LocalJobStarter()\n",
    "\n",
    "my_poses.set_jobstarter(jobstarter=my_jobstarter)\n",
    "print(my_poses.default_jobstarter)"
   ]
  },
  {
   "cell_type": "markdown",
   "metadata": {},
   "source": [
    "As mentioned before, all of these settings can be directly defined when setting up the poses:"
   ]
  },
  {
   "cell_type": "code",
   "execution_count": 28,
   "metadata": {},
   "outputs": [],
   "source": [
    "my_poses = Poses(poses='data/input_pdbs/', glob_suffix='*pdb', work_dir='load_poses_example', storage_format='csv', jobstarter=my_jobstarter)"
   ]
  }
 ],
 "metadata": {
  "kernelspec": {
   "display_name": "protslurm",
   "language": "python",
   "name": "python3"
  },
  "language_info": {
   "codemirror_mode": {
    "name": "ipython",
    "version": 3
   },
   "file_extension": ".py",
   "mimetype": "text/x-python",
   "name": "python",
   "nbconvert_exporter": "python",
   "pygments_lexer": "ipython3",
   "version": "3.11.7"
  }
 },
 "nbformat": 4,
 "nbformat_minor": 2
}
