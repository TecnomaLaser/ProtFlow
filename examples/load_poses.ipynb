{
 "cells": [
  {
   "cell_type": "markdown",
   "metadata": {},
   "source": [
    "# Loading Poses"
   ]
  },
  {
   "cell_type": "markdown",
   "metadata": {},
   "source": [
    "First, we load poses from a Poses object that was stored as a DataFrame using the Poses.save_scores() function."
   ]
  },
  {
   "cell_type": "code",
   "execution_count": 3,
   "metadata": {},
   "outputs": [],
   "source": [
    "import protslurm"
   ]
  },
  {
   "cell_type": "code",
   "execution_count": 6,
   "metadata": {},
   "outputs": [
    {
     "name": "stdout",
     "output_type": "stream",
     "text": [
      "3     atgl_mouse_252_0007_0004_0002\n",
      "30    atgl_mouse_252_0005_0017_0002\n",
      "45    atgl_mouse_252_0007_0017_0001\n",
      "14    atgl_mouse_252_0007_0011_0010\n",
      "24    atgl_mouse_252_0008_0002_0006\n",
      "Name: poses_description, dtype: object\n"
     ]
    }
   ],
   "source": [
    "# load poses from existing DataFrame\n",
    "poses = protslurm.poses.load_poses(\"data/saved_poses/poses_atgl_scores.json\")\n",
    "\n",
    "print(poses.df.head()[\"poses_description\"])"
   ]
  },
  {
   "cell_type": "code",
   "execution_count": 7,
   "metadata": {},
   "outputs": [
    {
     "name": "stdout",
     "output_type": "stream",
     "text": [
      "No\n"
     ]
    }
   ],
   "source": [
    "# store poses somewhere:\n",
    "if not hasattr(poses, \"work_dir\"):\n",
    "    print(\"No\")"
   ]
  },
  {
   "cell_type": "code",
   "execution_count": 9,
   "metadata": {},
   "outputs": [
    {
     "name": "stdout",
     "output_type": "stream",
     "text": [
      "['atgl_mouse_252_0007_0004_0002']\n"
     ]
    }
   ],
   "source": [
    "print(poses.df[poses.df[\"poses_description\"] == \"atgl_mouse_252_0007_0004_0002\"][\"poses_description\"].values[0])"
   ]
  },
  {
   "cell_type": "code",
   "execution_count": 10,
   "metadata": {},
   "outputs": [
    {
     "name": "stdout",
     "output_type": "stream",
     "text": [
      "atgl_mouse_252_0007_0004_0002\n"
     ]
    }
   ],
   "source": [
    "print(poses.df[poses.df[\"poses_description\"] == \"atgl_mouse_252_0007_0004_0002\"][\"poses_description\"].iloc[0])"
   ]
  },
  {
   "cell_type": "code",
   "execution_count": null,
   "metadata": {},
   "outputs": [],
   "source": [
    "print(poses.df.query('poses_description == \"atgl_mouse_252_0007_0004_0002\"')[\"poses_description\"])"
   ]
  }
 ],
 "metadata": {
  "kernelspec": {
   "display_name": "protslurm",
   "language": "python",
   "name": "python3"
  },
  "language_info": {
   "codemirror_mode": {
    "name": "ipython",
    "version": 3
   },
   "file_extension": ".py",
   "mimetype": "text/x-python",
   "name": "python",
   "nbconvert_exporter": "python",
   "pygments_lexer": "ipython3",
   "version": "3.11.7"
  }
 },
 "nbformat": 4,
 "nbformat_minor": 2
}
