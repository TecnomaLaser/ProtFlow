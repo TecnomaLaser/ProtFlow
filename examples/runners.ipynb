{
 "cells": [
  {
   "cell_type": "markdown",
   "metadata": {},
   "source": [
    "# Using Applications"
   ]
  },
  {
   "cell_type": "markdown",
   "metadata": {},
   "source": [
    "To run different protein design applications, we first have to import everything we need. In this case, we want to test the application ligandmpnn."
   ]
  },
  {
   "cell_type": "code",
   "execution_count": 2,
   "metadata": {},
   "outputs": [],
   "source": [
    "import sys\n",
    "sys.path.append(\"..\") # add the path to the protflow directory (e.g. /home/username/ProtSlurm)\n",
    "from protflow.poses import Poses\n",
    "from protflow.tools.ligandmpnn import LigandMPNN\n",
    "from protflow.jobstarters import SbatchArrayJobstarter, LocalJobStarter"
   ]
  },
  {
   "cell_type": "markdown",
   "metadata": {},
   "source": [
    "First, we define our jobstarters. We want to test if we can run LigandMPNN on GPU or cpu using the SLURM workload manager as well as run it locally. If SLURM is not installed on your machine, you can skip the parts mentioning it."
   ]
  },
  {
   "cell_type": "code",
   "execution_count": 3,
   "metadata": {},
   "outputs": [],
   "source": [
    "slurm_gpu_jobstarter = SbatchArrayJobstarter(max_cores=10, gpus=1)\n",
    "slurm_cpu_jobstarter = SbatchArrayJobstarter(max_cores=10, gpus=False)"
   ]
  },
  {
   "cell_type": "code",
   "execution_count": 4,
   "metadata": {},
   "outputs": [],
   "source": [
    "local_jobstarter = LocalJobStarter(max_cores=1)"
   ]
  },
  {
   "cell_type": "markdown",
   "metadata": {},
   "source": [
    "Next, we have to load our poses. We set the local_jobstarter as default jobstarter."
   ]
  },
  {
   "cell_type": "code",
   "execution_count": 5,
   "metadata": {},
   "outputs": [],
   "source": [
    "my_poses = Poses(poses='data/input_pdbs/', glob_suffix='*pdb', work_dir='ligandmpnn_local', storage_format='csv', jobstarter=local_jobstarter)"
   ]
  },
  {
   "cell_type": "markdown",
   "metadata": {},
   "source": [
    "To run ligandmpnn, we have to create a runner. Make sure the path to the LigandMPNN script and python path are set in protflow/config.py! The lines there should look like:\n",
    "\n",
    "#ligandmpnn.py\n",
    "\n",
    "LIGANDMPNN_SCRIPT_PATH = \"/home/user/LigandMPNN/run.py\"\n",
    "\n",
    "LIGANDMPNN_PYTHON_PATH = \"/home/user/anaconda3/envs/ligandmpnn_env/bin/python3\"\n",
    "\n",
    "You can set it also when creating the runner, but it is recommended to set it in the config if you want to run it again.\n",
    "\n",
    "If running this notebook on a cluster, be sure that is also opened from there (e.g. with VS code installed on the cluster)! Otherwise, the /home/ directories won't match since it will look for the files on your local machine and not on the cluster!"
   ]
  },
  {
   "cell_type": "code",
   "execution_count": 6,
   "metadata": {},
   "outputs": [],
   "source": [
    "ligandmpnn = LigandMPNN()"
   ]
  },
  {
   "cell_type": "markdown",
   "metadata": {},
   "source": [
    "To run ligandmpnn on our poses, we have to use the .run() function. All tools and metrics should have this function. It is mandatory to provide a unique prefix for each run. Each score generated will be saved to the poses dataframe in the format prefix_scorename. The output files can be found in a folder called prefix in the working_directory set for the input poses. The .run() function always returns poses."
   ]
  },
  {
   "cell_type": "code",
   "execution_count": null,
   "metadata": {},
   "outputs": [],
   "source": [
    "my_poses = ligandmpnn.run(poses=my_poses, prefix='ligmpnn_local', nseq=2, model_type='protein_mpnn')\n",
    "display(my_poses.df)"
   ]
  },
  {
   "cell_type": "markdown",
   "metadata": {},
   "source": [
    "Notice how the poses dataframe has changed! It now contains all the poses generated from LigandMPNN and the corresponding scores. \n",
    "\n",
    "Since we did not provide a jobstarter when we set up ligandmpnn, it ran on the local machine, because it defaulted to the jobstarter we set when creating our poses. We can run LigandMPNN using another jobstarter, either by providing LigandMPNN a default jobstarter or calling the .run function with the jobstarter option."
   ]
  },
  {
   "cell_type": "code",
   "execution_count": null,
   "metadata": {},
   "outputs": [],
   "source": [
    "my_poses = Poses(poses='data/input_pdbs/', glob_suffix='*pdb', work_dir='ligandmpnn_cpu', storage_format='csv', jobstarter=local_jobstarter)\n",
    "my_poses = ligandmpnn.run(poses=my_poses, prefix='ligmpnn_cpu', nseq=2, model_type='protein_mpnn', jobstarter=slurm_cpu_jobstarter)\n",
    "display(my_poses.df)"
   ]
  },
  {
   "cell_type": "code",
   "execution_count": null,
   "metadata": {},
   "outputs": [],
   "source": [
    "my_poses = Poses(poses='data/input_pdbs/', glob_suffix='*pdb', work_dir='ligandmpnn_gpu', storage_format='csv', jobstarter=local_jobstarter)\n",
    "\n",
    "gpu_ligandmpnn = LigandMPNN(jobstarter=slurm_gpu_jobstarter)\n",
    "my_poses = gpu_ligandmpnn.run(poses=my_poses, prefix='ligmpnn_gpu', nseq=2, model_type='protein_mpnn', jobstarter=slurm_gpu_jobstarter)\n",
    "display(my_poses.df)"
   ]
  },
  {
   "cell_type": "markdown",
   "metadata": {},
   "source": [
    "You can provide options to your runner. These will be applied to all input poses. If you want to apply pose-specific options, you can use pose_options. The pose_options option reads in either a dataframe column (where each row contains the option for the corresponding pose) or a list of options for each pose. You can combine options and pose_options freely. If setting an option using both the generic options and pose_options, the pose_options will overwrite the generic one (but this should in general be avoided to prevent confusion). Some runners have explicit arguments for options that are mandatory or used very often (like model_type for LigandMPNN).\n",
    "\n",
    "The options must be formatted in the same way as when running them directly. E.g. Ligandmpnn uses options and flags with a -- prefix, whereas Rosetta uses options and flags indicated by -.\n",
    "\n",
    "We are going to set general options to bias ProteinMPNN to prefer Ala residues and provide pose_options to preserve certain residues which should not be designed."
   ]
  },
  {
   "cell_type": "code",
   "execution_count": 12,
   "metadata": {},
   "outputs": [
    {
     "data": {
      "text/html": [
       "<div>\n",
       "<style scoped>\n",
       "    .dataframe tbody tr th:only-of-type {\n",
       "        vertical-align: middle;\n",
       "    }\n",
       "\n",
       "    .dataframe tbody tr th {\n",
       "        vertical-align: top;\n",
       "    }\n",
       "\n",
       "    .dataframe thead th {\n",
       "        text-align: right;\n",
       "    }\n",
       "</style>\n",
       "<table border=\"1\" class=\"dataframe\">\n",
       "  <thead>\n",
       "    <tr style=\"text-align: right;\">\n",
       "      <th></th>\n",
       "      <th>poses</th>\n",
       "      <th>mpnn_pose_options</th>\n",
       "    </tr>\n",
       "  </thead>\n",
       "  <tbody>\n",
       "    <tr>\n",
       "      <th>0</th>\n",
       "      <td>data/input_pdbs/structure1.pdb</td>\n",
       "      <td>--fixed_residues 'A1'</td>\n",
       "    </tr>\n",
       "    <tr>\n",
       "      <th>1</th>\n",
       "      <td>data/input_pdbs/structure3.pdb</td>\n",
       "      <td>--fixed_residues 'A2'</td>\n",
       "    </tr>\n",
       "    <tr>\n",
       "      <th>2</th>\n",
       "      <td>data/input_pdbs/structure2.pdb</td>\n",
       "      <td>--fixed_residues 'A3'</td>\n",
       "    </tr>\n",
       "  </tbody>\n",
       "</table>\n",
       "</div>"
      ],
      "text/plain": [
       "                            poses      mpnn_pose_options\n",
       "0  data/input_pdbs/structure1.pdb  --fixed_residues 'A1'\n",
       "1  data/input_pdbs/structure3.pdb  --fixed_residues 'A2'\n",
       "2  data/input_pdbs/structure2.pdb  --fixed_residues 'A3'"
      ]
     },
     "metadata": {},
     "output_type": "display_data"
    },
    {
     "data": {
      "text/html": [
       "<div>\n",
       "<style scoped>\n",
       "    .dataframe tbody tr th:only-of-type {\n",
       "        vertical-align: middle;\n",
       "    }\n",
       "\n",
       "    .dataframe tbody tr th {\n",
       "        vertical-align: top;\n",
       "    }\n",
       "\n",
       "    .dataframe thead th {\n",
       "        text-align: right;\n",
       "    }\n",
       "</style>\n",
       "<table border=\"1\" class=\"dataframe\">\n",
       "  <thead>\n",
       "    <tr style=\"text-align: right;\">\n",
       "      <th></th>\n",
       "      <th>input_poses</th>\n",
       "      <th>poses</th>\n",
       "      <th>poses_description</th>\n",
       "      <th>mpnn_pose_options</th>\n",
       "      <th>options_local_mpnn_origin</th>\n",
       "      <th>options_local_seed</th>\n",
       "      <th>options_local_description</th>\n",
       "      <th>options_local_sequence</th>\n",
       "      <th>options_local_T</th>\n",
       "      <th>options_local_id</th>\n",
       "      <th>options_local_seq_rec</th>\n",
       "      <th>options_local_overall_confidence</th>\n",
       "      <th>options_local_ligand_confidence</th>\n",
       "      <th>options_local_location</th>\n",
       "    </tr>\n",
       "  </thead>\n",
       "  <tbody>\n",
       "    <tr>\n",
       "      <th>0</th>\n",
       "      <td>data/input_pdbs/structure1.pdb</td>\n",
       "      <td>/home/tripp/ProtFlow/examples/ligandmpnn_optio...</td>\n",
       "      <td>structure1_0001</td>\n",
       "      <td>--fixed_residues 'A1'</td>\n",
       "      <td>structure1</td>\n",
       "      <td>11464.0</td>\n",
       "      <td>structure1_0001</td>\n",
       "      <td>MAAAAAAAAAAAAAAAAAAAAAAAAALAAAAAAVAADAAAAAAAAA...</td>\n",
       "      <td>0.1</td>\n",
       "      <td>1.0</td>\n",
       "      <td>0.2462</td>\n",
       "      <td>0.2875</td>\n",
       "      <td>0.2875</td>\n",
       "      <td>/home/tripp/ProtFlow/examples/ligandmpnn_optio...</td>\n",
       "    </tr>\n",
       "    <tr>\n",
       "      <th>1</th>\n",
       "      <td>data/input_pdbs/structure1.pdb</td>\n",
       "      <td>/home/tripp/ProtFlow/examples/ligandmpnn_optio...</td>\n",
       "      <td>structure1_0002</td>\n",
       "      <td>--fixed_residues 'A1'</td>\n",
       "      <td>structure1</td>\n",
       "      <td>11464.0</td>\n",
       "      <td>structure1_0002</td>\n",
       "      <td>MAAAFAAAAAAAAAAAAAAAAAAAAALAAAAAAVAAAPAAAAAAAA...</td>\n",
       "      <td>0.1</td>\n",
       "      <td>2.0</td>\n",
       "      <td>0.2563</td>\n",
       "      <td>0.2878</td>\n",
       "      <td>0.2878</td>\n",
       "      <td>/home/tripp/ProtFlow/examples/ligandmpnn_optio...</td>\n",
       "    </tr>\n",
       "    <tr>\n",
       "      <th>2</th>\n",
       "      <td>data/input_pdbs/structure3.pdb</td>\n",
       "      <td>/home/tripp/ProtFlow/examples/ligandmpnn_optio...</td>\n",
       "      <td>structure3_0001</td>\n",
       "      <td>--fixed_residues 'A2'</td>\n",
       "      <td>structure3</td>\n",
       "      <td>18591.0</td>\n",
       "      <td>structure3_0001</td>\n",
       "      <td>AEAAAAAALAAAAAAAAAAAAAAAAALAPAIAAVAAAPAAAAAAAA...</td>\n",
       "      <td>0.1</td>\n",
       "      <td>1.0</td>\n",
       "      <td>0.2312</td>\n",
       "      <td>0.2646</td>\n",
       "      <td>0.2646</td>\n",
       "      <td>/home/tripp/ProtFlow/examples/ligandmpnn_optio...</td>\n",
       "    </tr>\n",
       "    <tr>\n",
       "      <th>3</th>\n",
       "      <td>data/input_pdbs/structure3.pdb</td>\n",
       "      <td>/home/tripp/ProtFlow/examples/ligandmpnn_optio...</td>\n",
       "      <td>structure3_0002</td>\n",
       "      <td>--fixed_residues 'A2'</td>\n",
       "      <td>structure3</td>\n",
       "      <td>18591.0</td>\n",
       "      <td>structure3_0002</td>\n",
       "      <td>AEAAAAAALAAAAAAAAAAAAAAAAAAAPAAAAVAAAAAAAAAAAA...</td>\n",
       "      <td>0.1</td>\n",
       "      <td>2.0</td>\n",
       "      <td>0.2362</td>\n",
       "      <td>0.2889</td>\n",
       "      <td>0.2889</td>\n",
       "      <td>/home/tripp/ProtFlow/examples/ligandmpnn_optio...</td>\n",
       "    </tr>\n",
       "    <tr>\n",
       "      <th>4</th>\n",
       "      <td>data/input_pdbs/structure2.pdb</td>\n",
       "      <td>/home/tripp/ProtFlow/examples/ligandmpnn_optio...</td>\n",
       "      <td>structure2_0001</td>\n",
       "      <td>--fixed_residues 'A3'</td>\n",
       "      <td>structure2</td>\n",
       "      <td>240.0</td>\n",
       "      <td>structure2_0001</td>\n",
       "      <td>AAKAAAAAAAAAAAAAAAAAAAAAAALAAAAAAAAAAPAAAAAAAA...</td>\n",
       "      <td>0.1</td>\n",
       "      <td>1.0</td>\n",
       "      <td>0.2111</td>\n",
       "      <td>0.2647</td>\n",
       "      <td>0.2647</td>\n",
       "      <td>/home/tripp/ProtFlow/examples/ligandmpnn_optio...</td>\n",
       "    </tr>\n",
       "    <tr>\n",
       "      <th>5</th>\n",
       "      <td>data/input_pdbs/structure2.pdb</td>\n",
       "      <td>/home/tripp/ProtFlow/examples/ligandmpnn_optio...</td>\n",
       "      <td>structure2_0002</td>\n",
       "      <td>--fixed_residues 'A3'</td>\n",
       "      <td>structure2</td>\n",
       "      <td>240.0</td>\n",
       "      <td>structure2_0002</td>\n",
       "      <td>AAKAAAAAAAAAAAAAAAAAAAAAAAAAPAAAAAAAAPAAAAAAAA...</td>\n",
       "      <td>0.1</td>\n",
       "      <td>2.0</td>\n",
       "      <td>0.2010</td>\n",
       "      <td>0.2635</td>\n",
       "      <td>0.2635</td>\n",
       "      <td>/home/tripp/ProtFlow/examples/ligandmpnn_optio...</td>\n",
       "    </tr>\n",
       "  </tbody>\n",
       "</table>\n",
       "</div>"
      ],
      "text/plain": [
       "                      input_poses  \\\n",
       "0  data/input_pdbs/structure1.pdb   \n",
       "1  data/input_pdbs/structure1.pdb   \n",
       "2  data/input_pdbs/structure3.pdb   \n",
       "3  data/input_pdbs/structure3.pdb   \n",
       "4  data/input_pdbs/structure2.pdb   \n",
       "5  data/input_pdbs/structure2.pdb   \n",
       "\n",
       "                                               poses poses_description  \\\n",
       "0  /home/tripp/ProtFlow/examples/ligandmpnn_optio...   structure1_0001   \n",
       "1  /home/tripp/ProtFlow/examples/ligandmpnn_optio...   structure1_0002   \n",
       "2  /home/tripp/ProtFlow/examples/ligandmpnn_optio...   structure3_0001   \n",
       "3  /home/tripp/ProtFlow/examples/ligandmpnn_optio...   structure3_0002   \n",
       "4  /home/tripp/ProtFlow/examples/ligandmpnn_optio...   structure2_0001   \n",
       "5  /home/tripp/ProtFlow/examples/ligandmpnn_optio...   structure2_0002   \n",
       "\n",
       "       mpnn_pose_options options_local_mpnn_origin  options_local_seed  \\\n",
       "0  --fixed_residues 'A1'                structure1             11464.0   \n",
       "1  --fixed_residues 'A1'                structure1             11464.0   \n",
       "2  --fixed_residues 'A2'                structure3             18591.0   \n",
       "3  --fixed_residues 'A2'                structure3             18591.0   \n",
       "4  --fixed_residues 'A3'                structure2               240.0   \n",
       "5  --fixed_residues 'A3'                structure2               240.0   \n",
       "\n",
       "  options_local_description  \\\n",
       "0           structure1_0001   \n",
       "1           structure1_0002   \n",
       "2           structure3_0001   \n",
       "3           structure3_0002   \n",
       "4           structure2_0001   \n",
       "5           structure2_0002   \n",
       "\n",
       "                              options_local_sequence  options_local_T  \\\n",
       "0  MAAAAAAAAAAAAAAAAAAAAAAAAALAAAAAAVAADAAAAAAAAA...              0.1   \n",
       "1  MAAAFAAAAAAAAAAAAAAAAAAAAALAAAAAAVAAAPAAAAAAAA...              0.1   \n",
       "2  AEAAAAAALAAAAAAAAAAAAAAAAALAPAIAAVAAAPAAAAAAAA...              0.1   \n",
       "3  AEAAAAAALAAAAAAAAAAAAAAAAAAAPAAAAVAAAAAAAAAAAA...              0.1   \n",
       "4  AAKAAAAAAAAAAAAAAAAAAAAAAALAAAAAAAAAAPAAAAAAAA...              0.1   \n",
       "5  AAKAAAAAAAAAAAAAAAAAAAAAAAAAPAAAAAAAAPAAAAAAAA...              0.1   \n",
       "\n",
       "   options_local_id  options_local_seq_rec  options_local_overall_confidence  \\\n",
       "0               1.0                 0.2462                            0.2875   \n",
       "1               2.0                 0.2563                            0.2878   \n",
       "2               1.0                 0.2312                            0.2646   \n",
       "3               2.0                 0.2362                            0.2889   \n",
       "4               1.0                 0.2111                            0.2647   \n",
       "5               2.0                 0.2010                            0.2635   \n",
       "\n",
       "   options_local_ligand_confidence  \\\n",
       "0                           0.2875   \n",
       "1                           0.2878   \n",
       "2                           0.2646   \n",
       "3                           0.2889   \n",
       "4                           0.2647   \n",
       "5                           0.2635   \n",
       "\n",
       "                              options_local_location  \n",
       "0  /home/tripp/ProtFlow/examples/ligandmpnn_optio...  \n",
       "1  /home/tripp/ProtFlow/examples/ligandmpnn_optio...  \n",
       "2  /home/tripp/ProtFlow/examples/ligandmpnn_optio...  \n",
       "3  /home/tripp/ProtFlow/examples/ligandmpnn_optio...  \n",
       "4  /home/tripp/ProtFlow/examples/ligandmpnn_optio...  \n",
       "5  /home/tripp/ProtFlow/examples/ligandmpnn_optio...  "
      ]
     },
     "metadata": {},
     "output_type": "display_data"
    }
   ],
   "source": [
    "my_poses = Poses(poses='data/input_pdbs/', glob_suffix='*pdb', work_dir='ligandmpnn_options', storage_format='csv', jobstarter=local_jobstarter)\n",
    "\n",
    "pose_options = [f\"--fixed_residues 'A{index+1}'\" for index, pose in my_poses.df.iterrows()]\n",
    "my_poses.df['mpnn_pose_options'] = pose_options\n",
    "display(my_poses.df[['poses', 'mpnn_pose_options']])\n",
    "\n",
    "my_poses = ligandmpnn.run(poses=my_poses, prefix='options_local', nseq=2, model_type='protein_mpnn', options='--bias_AA A:2', pose_options='mpnn_pose_options')\n",
    "display(my_poses.df)"
   ]
  }
 ],
 "metadata": {
  "kernelspec": {
   "display_name": "Python 3",
   "language": "python",
   "name": "python3"
  },
  "language_info": {
   "codemirror_mode": {
    "name": "ipython",
    "version": 3
   },
   "file_extension": ".py",
   "mimetype": "text/x-python",
   "name": "python",
   "nbconvert_exporter": "python",
   "pygments_lexer": "ipython3",
   "version": "3.11.7"
  }
 },
 "nbformat": 4,
 "nbformat_minor": 2
}
